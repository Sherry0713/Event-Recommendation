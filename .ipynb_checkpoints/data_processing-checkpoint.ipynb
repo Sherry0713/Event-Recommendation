{
 "cells": [
  {
   "cell_type": "code",
   "execution_count": 1,
   "id": "00c4bac5",
   "metadata": {},
   "outputs": [],
   "source": [
    "import pandas as pd\n",
    "from pymongo import MongoClient\n",
    "from math import isnan, sqrt\n",
    "import copy\n",
    "from dateutil.parser import parse\n",
    "import time"
   ]
  },
  {
   "cell_type": "markdown",
   "id": "400d29c1",
   "metadata": {},
   "source": [
    "## Connect MongoDB using pymongo; Process the data and put in database\n",
    "* Connect database"
   ]
  },
  {
   "cell_type": "code",
   "execution_count": 2,
   "id": "1413a5a4",
   "metadata": {},
   "outputs": [],
   "source": [
    "client = MongoClient('mongodb://localhost:27017')\n",
    "db = client.recommendation\n",
    "user_friends = db['user_friends']\n",
    "test = db['test']\n",
    "event_info = db['event_info']\n",
    "attendance = db['event_attendees']\n",
    "user_info = db['user_info']\n",
    "train = db['train']"
   ]
  },
  {
   "cell_type": "markdown",
   "id": "8a1bfa48",
   "metadata": {},
   "source": [
    "## 1.1 Process user location info\n",
    "* Process location data in user info: handling null values and outliers; Put user location info into dictinary"
   ]
  },
  {
   "cell_type": "code",
   "execution_count": 3,
   "id": "a30a959c",
   "metadata": {},
   "outputs": [],
   "source": [
    "users = pd.read_csv('/home/ruifan/Downloads/event-recommendation-engine-challenge/users.csv')\n",
    "\n",
    "\n",
    "# loc_dict: key is user_id, value is dict(key:'tokens',value: list of user location info consists of loc tokens\n",
    "# no null value in tokens\n",
    "\n",
    "loc_dict = {}\n",
    "for user in users.iterrows():\n",
    "   \n",
    "    user = user[1]\n",
    "    uid = int(user['user_id'])\n",
    "    if isinstance(user['location'], str):\n",
    "        tokens = user['location'].split('  ')\n",
    "        \n",
    "        # filter out null value and non-locational info\n",
    "        if not tokens:\n",
    "            continue\n",
    "        filtered = []\n",
    "        for t in tokens:\n",
    "            if t:\n",
    "                try:\n",
    "                    t = int(t)\n",
    "                    continue\n",
    "                except:\n",
    "                    pass\n",
    "                if t == 'undefined':\n",
    "                    continue\n",
    "                t = t.strip()\n",
    "                filtered.append(t)\n",
    "        if not filtered:\n",
    "            continue\n",
    "        loc_dict[uid] = {'tokens': filtered}"
   ]
  },
  {
   "cell_type": "markdown",
   "id": "a65b471f",
   "metadata": {},
   "source": [
    "## 1.2 Process event location info\n",
    "* Process location data in event info; Put event id and location info into dictionary (loc_dict2); put event coordinates and location info into latlngdict"
   ]
  },
  {
   "cell_type": "code",
   "execution_count": null,
   "id": "1a5e7bad",
   "metadata": {},
   "outputs": [],
   "source": [
    "loc_dict2 = {}\n",
    "events_chunks = pd.read_csv(\"/home/ruifan/Downloads/event-recommendation-engine-challenge/events.csv\", \n",
    "                            iterator=True, chunksize=10000)\n",
    "\n",
    "# loc_dict2: key is event id, value is a dict consists of location info(lat, lng, city, country, city)\n",
    "# in loc_dict2, at least one of location info(coorinate, city, state, country) is not null\n",
    "# latlngdict: key is coordinate(lng and lat in a tuple), value is location info(city, country, city)\n",
    "\n",
    "loc_dict2 = {}\n",
    "latlngdict = {}\n",
    "row_count = 0\n",
    "count = 0\n",
    "loc_dict2_rows = 0\n",
    "for events in events_chunks:\n",
    "    row_count += 1\n",
    "    for e in events.iterrows():\n",
    "        e = e[1]\n",
    "        eid = int(e['event_id'])\n",
    "        city = e['city']\n",
    "        state = e['state']\n",
    "        country = e['country']\n",
    "        lat = e['lat']\n",
    "        lng = e['lng']\n",
    "        \n",
    "        # Within pandas, a missing value is denoted by NaN\n",
    "        # NaN is a special floating-point value\n",
    "        if isinstance(city, float):\n",
    "            city = None\n",
    "        \n",
    "        if isinstance(state, float):\n",
    "            state = None\n",
    "        if isinstance(country, float):\n",
    "            country = None\n",
    "            \n",
    "        # If one of them(lat and lng) is null, coordinate info is invalid.\n",
    "        if isnan(lat) or isnan(lng):\n",
    "            lat = None\n",
    "            lng = None\n",
    "            \n",
    "        # one of the location infos must be not null\n",
    "        if not (city or state or country or lat or lng):\n",
    "            continue\n",
    "            \n",
    "        # put location info(city,state,country,lat,lng) into a dictionary\n",
    "        d = {}\n",
    "        if city:\n",
    "            d['city'] = city\n",
    "        if state:\n",
    "            d['state'] = state\n",
    "        if country:\n",
    "            if country == 'Democratic Republic Congo':\n",
    "                country = 'Democratic Republic of the Congo'\n",
    "            d['country'] = country\n",
    "        d['lat'] = lat\n",
    "        d['lng'] = lng\n",
    "        \n",
    "        # if lat and lng are not null and city is not null, ouput lat and lng(key)  \n",
    "        # and location info into latlngdict.\n",
    "        if lat:\n",
    "            if city:\n",
    "                latlngdict[(lat, lng)] = (city, country, state)\n",
    "            else:\n",
    "                count += 1\n",
    "        loc_dict2[eid] = d\n",
    "\n",
    "\n",
    " "
   ]
  },
  {
   "cell_type": "markdown",
   "id": "498bed9c",
   "metadata": {},
   "source": [
    "* Approximate coordinates and put to new dictionary (latlngapprox)\n",
    "* Invert latlngapprox dict"
   ]
  },
  {
   "cell_type": "code",
   "execution_count": null,
   "id": "7dd4b2cc",
   "metadata": {},
   "outputs": [],
   "source": [
    "# laglngapprox: key is tuple of coordinate, value is set of loc info(tuple).\n",
    "latlngapprox = {}\n",
    "for coord, loc in latlngdict.items():\n",
    "    # round coordinates to 1 decimal place\n",
    "    lat = int(coord[0] * 5) / 5.0\n",
    "    lng = int(coord[1] * 5) / 5.0\n",
    "    c2 = (lat,lng)\n",
    "    if c2 not in latlngapprox:\n",
    "        latlngapprox[c2] = set()\n",
    "    if loc not in latlngapprox[c2]:\n",
    "        latlngapprox[c2].add(loc)\n",
    "        \n",
    "\n",
    "# invert latlngapprox dictionary and put inverted coodinates info to new dictionary(locationlatlng)\n",
    "# locationlatlng: key is loc info, value is corresponding coordinate\n",
    "locationlatlng = {}\n",
    "for coord, locs in latlngapprox.items():\n",
    "    for loc in locs:\n",
    "        locationlatlng[loc] = coord\n",
    "       "
   ]
  },
  {
   "cell_type": "markdown",
   "id": "f36f1359",
   "metadata": {},
   "source": [
    "* Impute incomplete loc info."
   ]
  },
  {
   "cell_type": "code",
   "execution_count": null,
   "id": "bb18d628",
   "metadata": {},
   "outputs": [],
   "source": [
    "# match lag lng pairs without city location\n",
    "# event_location: key is eid, value is a tuple of loc info(city,country,state)\n",
    "# there are more than one loc info for each eid, because multiple addresses can be paired with one coordinate info\n",
    "event_location = {}\n",
    "missed = 0\n",
    "for eid, edict in loc_dict2.items():\n",
    "\n",
    "    lmin = None\n",
    "    \n",
    "    # is lat and lng are not null\n",
    "    if edict['lat'] and edict['lng']:\n",
    "        ecoord = (int(edict['lat'] * 5) / 5.0, int(edict['lng'] * 5) / 5.0)\n",
    "        \n",
    "        # if city is not null\n",
    "        if ecoord in latlngapprox:\n",
    "            lmin = latlngapprox[ecoord]\n",
    "\n",
    "        # if city is null, find the nearest location(impute city info)\n",
    "        else:\n",
    "            dmin = 5\n",
    "            vicinity = [i / 5.0 for i in range(-10, 11, 2)]\n",
    "            for i in vicinity:\n",
    "                for j in vicinity:\n",
    "                    \n",
    "                    coords = (ecoord[0] + i, ecoord[1] + j)\n",
    "                    \n",
    "                    # distance from original coordinate\n",
    "                    if coords in latlngapprox:\n",
    "                        dist = sqrt((coords[0] - edict['lat'])**2 + \\\n",
    "                                (coords[1] - edict['lng'])**2)\n",
    "                        \n",
    "                        # find the nearst loc\n",
    "                        if dist < dmin:\n",
    "                            dmin = dist\n",
    "                            lmin = latlngapprox[coords]\n",
    "                            \n",
    "    # if lat and lng are null\n",
    "    if not lmin:\n",
    "        l = (edict.get('city'), edict.get('country'), edict.get('state'))\n",
    "        \n",
    "        # if the loc is in locationlatling dict, find the coordinate\n",
    "        if l in locationlatlng:\n",
    "            coords = locationlatlng[l]\n",
    "            \n",
    "            # fill the city info if it \n",
    "            lmin = latlngapprox[coords]\n",
    "            \n",
    "        # missed counts: coordinate info are null and no way to impute\n",
    "        # missed = 5337\n",
    "        else:\n",
    "            lmin = [l]\n",
    "            missed += 1\n",
    "    event_location[eid] = lmin"
   ]
  },
  {
   "cell_type": "markdown",
   "id": "3e0ad346",
   "metadata": {},
   "source": [
    "## 1.3 Set up a city: country dictionary"
   ]
  },
  {
   "cell_type": "code",
   "execution_count": null,
   "id": "c3cdad8d",
   "metadata": {},
   "outputs": [],
   "source": [
    "# put countries(event) in a set\n",
    "countries = set([])\n",
    "for vl in event_location.values():\n",
    "    for v in vl:\n",
    "        if v[1]:\n",
    "            countries.add(v[1])\n",
    "            \n",
    "# cities: key is coumtry name, value is set of citys in the country(event)\n",
    "cities = {c: set() for c in countries}\n",
    "for vl in event_location.values():\n",
    "    for v in vl:\n",
    "        if v[0] and v[1]:\n",
    "            cities[v[1]].add(v[0])\n",
    "            \n",
    "\n",
    "# list main countries with states            \n",
    "us_states = {'AL':'Alabama','AK':'Alaska','AZ':'Arizona','AR':'Arkansas','CA':'California','CO':'Colorado',\n",
    "             'CT':'Connecticut','DE':'Delaware','FL':'Florida','GA':'Georgia','HI':'Hawaii','ID':'Idaho',\n",
    "             'IL':'Illinois','IN':'Indiana','IA':'Iowa','KS':'Kansas','KY':'Kentucky','LA':'Louisiana',\n",
    "             'ME':'Maine','MD':'Maryland','MA':'Massachusetts','MI':'Michigan','MN':'Minnesota',\n",
    "             'MS':'Mississippi','MO':'Missouri','MT':'Montana','NE':'Nebraska','NV':'Nevada',\n",
    "             'NH':'New Hampshire','NJ':'New Jersey','NM':'New Mexico','NY':'New York',\n",
    "             'NC':'North Carolina','ND':'North Dakota','OH':'Ohio','OK':'Oklahoma',\n",
    "             'OR':'Oregon','PA':'Pennsylvania','RI':'Rhode Island','SC':'South Carolina',\n",
    "             'SD':'South Dakota','TN':'Tennessee','TX':'Texas','UT':'Utah','VT':'Vermont',\n",
    "             'VA':'Virginia','WA':'Washington','WV':'West Virginia','WI':'Wisconsin','WY':'Wyoming'}\n",
    "\n",
    "us_states_rev = {v:k for k,v in us_states.items()}\n",
    "canada_states = {'AB':'Alberta', 'BC': 'British Columbia', 'MB': 'Manitoba', 'NB': 'New Brunswick', \n",
    "                 'NL': 'Newfoundland', 'NT': 'Northwest Territories', 'NS': 'Nova Scotia', 'NU': 'Nunavut', \n",
    "                 'ON': 'Ontario', 'PE': 'Prince Edward Island', 'QC': 'Quebec', 'SK': 'Saskatchewan', \n",
    "                 'YT': 'Yukon'}\n",
    "\n",
    "canada_states_rev = {v:k for k,v in canada_states.items()}\n",
    "australia_states = ['Australian Capital Territory', 'New South Wales', 'Northern Territory', \n",
    "                    'Queensland', 'South Australia', 'Tasmania', 'Victoria', 'Western Australia']"
   ]
  },
  {
   "cell_type": "markdown",
   "id": "5ccb968d",
   "metadata": {},
   "source": [
    "* Process loc info in loc_dict(users)"
   ]
  },
  {
   "cell_type": "code",
   "execution_count": null,
   "id": "678622ee",
   "metadata": {},
   "outputs": [],
   "source": [
    "# set up a city: country dictionary\n",
    "# cities_map: key is city name, value is dicts with country name as key and 1 as value(event)\n",
    "cities_map = {}\n",
    "for country, cities_set in cities.items():\n",
    "    for city in cities_set:\n",
    "        if city not in cities_map:\n",
    "            cities_map[city] = {}\n",
    "        cities_map[city][country] = cities_map[city].get(country, 0) + 1\n",
    "\n",
    "# process user location tokens\n",
    "count = 0\n",
    "for uid, udict in loc_dict.items():\n",
    "    if 'tokens' not in udict:\n",
    "        continue\n",
    "    tokens = udict['tokens']\n",
    "    country = None\n",
    "    state = None\n",
    "    city = None\n",
    "    \n",
    "    # find the country\n",
    "    for t in tokens:\n",
    "        if t in countries:\n",
    "            country = t\n",
    "            break\n",
    "            \n",
    "    # find the state\n",
    "    for t in tokens:\n",
    "        if t in us_states:\n",
    "            state = t\n",
    "            country = 'United States'\n",
    "        if t in us_states_rev:\n",
    "            state = us_states_rev[t]\n",
    "            country = 'United States'\n",
    "        if t in canada_states:\n",
    "            country = 'Canada'\n",
    "            state = t\n",
    "        if t in canada_states_rev:\n",
    "            country = 'Canada'\n",
    "            state = canada_states_rev[t]\n",
    "        if t in australia_states:\n",
    "            state = t\n",
    "            country = 'Australia'\n",
    "    \n",
    "    # if country is found, use cities dict to find the city\n",
    "    if country:\n",
    "        for t in tokens:\n",
    "            if t in cities[country]:\n",
    "                city = t\n",
    "                \n",
    "    # if neither of country and state is found, try to find the city\n",
    "    if not (city or state or country):\n",
    "        country_set = set(countries)\n",
    "        for t in tokens:\n",
    "            if t in cities_map:\n",
    "                \n",
    "                to_remove = ['United States', 'Canada', 'Australia']\n",
    "                i = 0\n",
    "                \n",
    "                # cities_map[t] > 1 means there is more than one country have city named t\n",
    "                # remove these three countries because there are same city names in different states\n",
    "                while len(cities_map[t]) > 1 and i < 3:\n",
    "                    if to_remove[i] in cities_map[t]:\n",
    "                        cities_map[t].pop(to_remove[i])\n",
    "                    i += 1\n",
    "                    \n",
    "                if len(cities_map[t]) == 1:\n",
    "                    city = t\n",
    "                    country = list(cities_map[t].keys())[0]\n",
    "                elif len(cities_map[t]) > 1:\n",
    "                    \n",
    "                    # removes the items that is not present in both sets\n",
    "                    country_set.intersection_update(cities_map[t])\n",
    "                \n",
    "        # if city is found in more than one countries in cities_map\n",
    "        if not country and len(country_set) < 5:\n",
    "            country = list(country_set)\n",
    "    \n",
    "    # if neither of them is found\n",
    "    if not (city or state or country):\n",
    "        country = tokens\n",
    "    if state:\n",
    "        udict['state'] = state\n",
    "    if country:\n",
    "        udict['country'] = country\n",
    "    if city:\n",
    "        udict['city'] = city"
   ]
  },
  {
   "cell_type": "code",
   "execution_count": null,
   "id": "d49b5125",
   "metadata": {},
   "outputs": [],
   "source": [
    "count = 0\n",
    "for uid, udict in loc_dict.items():\n",
    "    state = udict.get('state')\n",
    "    country = udict.get('country')\n",
    "    city = udict.get('city')\n",
    "    \n",
    "    # if there is only one country, convert str to list\n",
    "    if isinstance(country, str):\n",
    "        country = [country]\n",
    "    locations = []\n",
    "    \n",
    "    for c in country:\n",
    "        l = {'country': c}\n",
    "        if state:\n",
    "            l['state'] = state\n",
    "        if city:\n",
    "            l['city'] = city\n",
    "        locations.append(l)\n",
    "    udict['locations'] = locations\n",
    "    "
   ]
  },
  {
   "cell_type": "markdown",
   "id": "211f1556",
   "metadata": {},
   "source": [
    "* Update user_info connection in DB"
   ]
  },
  {
   "cell_type": "markdown",
   "id": "50bd9c0c",
   "metadata": {},
   "source": [
    "for uid, udict in loc_dict.items():\n",
    "    user_info.update_one({'id': uid},{'$set': {'loc': udict['locations']}}, upsert = True)"
   ]
  },
  {
   "cell_type": "markdown",
   "id": "eb9f2d3a",
   "metadata": {},
   "source": [
    "events = pd.read_csv(\"/home/ruifan/Downloads/event-recommendation-engine-challenge/events.csv\", \n",
    "                     usecols = ['event_id','start_time'])\n",
    "\n",
    "event_info.create_index('eid', unique = True)\n",
    "for e in events.iterrows():\n",
    "        e = e[1]\n",
    "        t = e['start_time']\n",
    "        t = parse(t)\n",
    "        t = time.mktime(t.timetuple())\n",
    "        event_info.update_one({'eid': e['event_id']},{'$set': {'start': t}})"
   ]
  },
  {
   "cell_type": "markdown",
   "id": "e8c544ab",
   "metadata": {},
   "source": [
    "* Update event_info connection in DB"
   ]
  },
  {
   "cell_type": "markdown",
   "id": "e8ebeca1",
   "metadata": {},
   "source": [
    "event = {}\n",
    "count = 0\n",
    "for eid in event_location.keys():\n",
    "    filtered = set()\n",
    "    locs = event_location.get(eid, [])\n",
    "    for loc in locs:\n",
    "        \n",
    "        # standardize state name\n",
    "        state = us_states_rev.get(loc[2], loc[2])\n",
    "        state = canada_states_rev.get(state, state)\n",
    "        filtered.add((loc[0], loc[1], state))\n",
    "    filtered = [{'city': l[0], 'country': l[1], 'state': l[2]} for l in filtered]\n",
    "    event = {'eid': eid,'loc': filtered}\n",
    "    event_info.insert_one(event)\n"
   ]
  },
  {
   "cell_type": "markdown",
   "id": "d7db02fd",
   "metadata": {},
   "source": [
    "events = pd.read_csv(\"/home/ruifan/Downloads/event-recommendation-engine-challenge/events.csv\", \n",
    "                     usecols = ['event_id','user_id'])\n",
    "\n",
    "for e in events.iterrows():\n",
    "        e = e[1]\n",
    "        creator = int(e['user_id'])\n",
    "        event_info.update_one({'eid': int(e['event_id'])},{'$set': {'creator': creator}})"
   ]
  },
  {
   "cell_type": "markdown",
   "id": "c7ab1477",
   "metadata": {},
   "source": [
    "* insert users geoloc into mongo"
   ]
  },
  {
   "cell_type": "markdown",
   "id": "34660ec3",
   "metadata": {},
   "source": [
    "''' \n",
    "using external API to convert address to geolocation\n",
    "\n",
    "'''\n",
    "\n",
    "from geopy.geocoders import Nominatim\n",
    "\n",
    "locator = Nominatim(user_agent = \"kkcc_getgeoloc\")\n",
    "\n",
    "def address_to_geolocation(loc):\n",
    "    getloc = locator.geocode(loc)\n",
    "    \n",
    "    return [getloc.latitude, getloc.longitude]"
   ]
  },
  {
   "cell_type": "code",
   "execution_count": null,
   "id": "7a283052",
   "metadata": {},
   "outputs": [],
   "source": [
    "len(event_location)"
   ]
  },
  {
   "cell_type": "code",
   "execution_count": null,
   "id": "5fb279ed",
   "metadata": {},
   "outputs": [],
   "source": [
    "event_ids = list(event_location.keys())"
   ]
  },
  {
   "cell_type": "code",
   "execution_count": null,
   "id": "32b140ee",
   "metadata": {},
   "outputs": [],
   "source": [
    "len(loc_dict)"
   ]
  },
  {
   "cell_type": "code",
   "execution_count": null,
   "id": "56774cc5",
   "metadata": {},
   "outputs": [],
   "source": [
    "user_ids = list(loc_dict.keys())"
   ]
  },
  {
   "cell_type": "code",
   "execution_count": null,
   "id": "0b53c1b5",
   "metadata": {},
   "outputs": [],
   "source": [
    "creator_ids = set()\n",
    "for e in event_info.find():\n",
    "    c_id = e.get('creator',[])\n",
    "    creator_ids.add(c_id)\n",
    "len(creator_ids)"
   ]
  },
  {
   "cell_type": "code",
   "execution_count": null,
   "id": "08b8c554",
   "metadata": {},
   "outputs": [],
   "source": [
    "def Intersection(lst1, lst2):\n",
    "    return set(lst1).intersection(lst2)\n",
    "\n",
    "creator_ids = list(creator_ids)\n",
    "its = Intersection(user_ids,creator_ids)\n",
    "len(its)"
   ]
  },
  {
   "cell_type": "code",
   "execution_count": null,
   "id": "d65cd022",
   "metadata": {},
   "outputs": [],
   "source": [
    "event_attendees= pd.read_csv('/home/ruifan/Downloads/event-recommendation-engine-challenge/event_attendees.csv')\n",
    "att_eids = []\n",
    "att_uids = []\n",
    "for event in event_attendees.iterrows():\n",
    "    event = event[1]\n",
    "    if isinstance(event['yes'],float):\n",
    "        continue\n",
    "    users = event['yes']\n",
    "    uids = [int(u) for u in users.split()]\n",
    "    eid = event['event']\n",
    "    att_eids.append(eid)\n",
    "    att_uids.extend(uids)"
   ]
  },
  {
   "cell_type": "code",
   "execution_count": null,
   "id": "14b20ea5",
   "metadata": {},
   "outputs": [],
   "source": [
    "location_cache = {}\n",
    "event_chunks = pd.read_csv('/home/ruifan/Downloads/event-recommendation-engine-challenge/events.csv',\n",
    "                          usecols = ['city','state','country','lat','lng'])"
   ]
  },
  {
   "cell_type": "code",
   "execution_count": null,
   "id": "14d16521",
   "metadata": {},
   "outputs": [],
   "source": [
    "event_chunks.isna().sum()"
   ]
  },
  {
   "cell_type": "markdown",
   "id": "91876903",
   "metadata": {},
   "source": [
    "* build a dict of spatial info\n",
    "* location_cache: key is address, value is geolocation(coordinates)\n",
    "\n",
    "count = 0\n",
    "for e in event_chunks.iterrows():\n",
    "    count += 1\n",
    "    if count % 100000 == 0:\n",
    "        print(count)\n",
    "    \n",
    "    e = e[1]\n",
    "\n",
    "    \n",
    "    if (e['city'] or e['state'] or e['country']) \\\n",
    "    and ((e['lng'] and not isnan(e['lat'])) and (e['lat'] and not isnan(e['lng']))):\n",
    "        location = [e['lat'], e['lng']]\n",
    "        loc_string = '%s, %s, %s' % (e['city'], e['state'], e['country'])\n",
    "        location_cache[loc_string] = location   "
   ]
  },
  {
   "cell_type": "code",
   "execution_count": null,
   "id": "03a60e52",
   "metadata": {},
   "outputs": [],
   "source": [
    "len(location_cache)"
   ]
  },
  {
   "cell_type": "markdown",
   "id": "9b40dfd8",
   "metadata": {},
   "source": [
    "* insert geolocation info into event_info"
   ]
  },
  {
   "cell_type": "markdown",
   "id": "ad3ffcd5",
   "metadata": {},
   "source": [
    "events_chunks = pd.read_csv(\"/home/ruifan/Downloads/event-recommendation-engine-challenge/events.csv\", \n",
    "                            iterator=True, chunksize=10000)\n",
    "count = 0\n",
    "for chunk in events_chunks:\n",
    "    for e in chunk.iterrows():\n",
    "        count += 1\n",
    "        if count % 100000 == 0:\n",
    "            print(count)\n",
    "        \n",
    "        e = e[1]\n",
    "        eid = e['event_id']\n",
    "        location = None\n",
    "        \n",
    "        # if lat and lng are not null\n",
    "        if e['lat'] and e['lng'] and not isnan(e['lat']) and not isnan(e['lng']):\n",
    "            location = [e['lat'], e['lng']]\n",
    "            \n",
    "        # if lat or lng is null\n",
    "        elif e['city'] or e['state'] or e['country']:\n",
    "            loc_string = '%s, %s, %s' % (e['city'], e['state'], e['country'])\n",
    "            \n",
    "            if loc_string in location_cache:\n",
    "                location = location_cache[loc_string]\n",
    "        if location:\n",
    "            words = list(e[9:110])\n",
    "            event_info.update_one({'eid':eid},{'$set': {'location': location, 'words': words}})"
   ]
  },
  {
   "cell_type": "markdown",
   "id": "e02ad158",
   "metadata": {},
   "source": [
    "* insert geoloc info into user_info"
   ]
  },
  {
   "cell_type": "markdown",
   "id": "88b39e0b",
   "metadata": {},
   "source": [
    "count = 0\n",
    "for user in user_info.find():\n",
    "    count += 1\n",
    "    if count % 10000 == 0:\n",
    "        print(count)\n",
    "        \n",
    "    if user.get('loc',[]):\n",
    "        loc = user.get('loc',[])[0]\n",
    "    if not user.get('loc',[]):\n",
    "        loc  = None\n",
    "    nan = float('nan')\n",
    "    location = None\n",
    "    if loc:\n",
    "        loc_string = '%s, %s, %s' % (loc.get('city',nan), loc.get('state', nan),loc.get('country', nan))\n",
    "    if loc_string in location_cache:\n",
    "        location = location_cache[loc_string]\n",
    "        user_info.update_one({'id': user.get('id')}, {'$set': {'location': location}})"
   ]
  },
  {
   "cell_type": "markdown",
   "id": "24b83335",
   "metadata": {},
   "source": [
    "* insert age into user_info"
   ]
  },
  {
   "cell_type": "markdown",
   "id": "fcf2d722",
   "metadata": {},
   "source": [
    "for u in user_info.find():\n",
    "    a = u['birth']\n",
    "    try:\n",
    "        a = int(a)\n",
    "        if a < 1940:\n",
    "            a = None\n",
    "        else:\n",
    "            a = 2013 - a\n",
    "    except:\n",
    "        a = None\n",
    "    user_info.update_one({'id': u['id']},{'$set': {'age': a}})"
   ]
  },
  {
   "cell_type": "markdown",
   "id": "954e959c",
   "metadata": {},
   "source": [
    "* insert mean age of users who attended this event into event_info"
   ]
  },
  {
   "cell_type": "code",
   "execution_count": null,
   "id": "a14a06e8",
   "metadata": {},
   "outputs": [],
   "source": [
    "user_dict = list(user_info.find())\n",
    "user_dict = {u['id']:u for u in user_dict}"
   ]
  },
  {
   "cell_type": "code",
   "execution_count": null,
   "id": "ae9db574",
   "metadata": {},
   "outputs": [],
   "source": [
    "import numpy as np\n",
    "count = 0\n",
    "mean_ages = []\n",
    "for e in event_info.find():\n",
    "    attends = attendance.find({'eid': e['eid']})\n",
    "    ages = []\n",
    "    for at in attends:\n",
    "        if 'yes' not in at:\n",
    "            continue\n",
    "        uid = at['uid']\n",
    "        if uid in user_dict:\n",
    "            a = user_dict[uid]['age']\n",
    "            if a:\n",
    "                ages.append(a)\n",
    "    \n",
    "    if ages:\n",
    "        mean_age = np.mean(ages)\n",
    "        event_info.update_one({'eid': e['eid']},{'$set': {'mean_age': mean_age}})"
   ]
  },
  {
   "cell_type": "markdown",
   "id": "981be2ed",
   "metadata": {},
   "source": [
    "## 1.4 Process user locale and timezone info"
   ]
  },
  {
   "cell_type": "code",
   "execution_count": null,
   "id": "9ac28961",
   "metadata": {},
   "outputs": [],
   "source": [
    "# user_data: key is user id, value is a dict with locale, tz(could be {}) and loc info(not null)\n",
    "# loc_dict only records users that loc value is not null\n",
    "\n",
    "# inplace assignment, dict is mutable\n",
    "user_data = loc_dict\n",
    "\n",
    "# insert items to user_data dict\n",
    "user_info_file = pd.read_csv('/home/ruifan/Downloads/event-recommendation-engine-challenge/users.csv')\n",
    "for user in user_info_file.iterrows():\n",
    "    user = user[1]\n",
    "    uid = int(user['user_id'])\n",
    "    d = {}\n",
    "    if 'locale' in user and not isinstance(user['locale'], float):\n",
    "        d['locale'] = user['locale']\n",
    "    if 'timezone' in user and not isnan(user['timezone']):\n",
    "        d['tz'] = user['timezone']\n",
    "    if uid not in user_data:\n",
    "        user_data[uid] = {}\n",
    "    user_data[uid].update(d)\n",
    "    \n",
    "\n",
    "for user in user_info.find():\n",
    "    user_data[user['id']]['locations'] = user.get('loc', [])"
   ]
  },
  {
   "cell_type": "markdown",
   "id": "bc670c3d",
   "metadata": {},
   "source": [
    "* insert users birth and genter info"
   ]
  },
  {
   "cell_type": "markdown",
   "id": "191c99cf",
   "metadata": {},
   "source": [
    "for user in user_info_file.iterrows():\n",
    "    user = user[1]\n",
    "    uid = int(user['user_id'])\n",
    "    user_info.update_one({'id':uid},{'$set':{'birth': user['birthyear'], 'gender':user['gender']}}, upsert=True)"
   ]
  },
  {
   "cell_type": "code",
   "execution_count": null,
   "id": "2acd406d",
   "metadata": {},
   "outputs": [],
   "source": [
    "# vote_locale: key is locale, value is a dict with countries as key and the corresponding counts of users as value\n",
    "vote_locale = {}\n",
    "countries = set([])\n",
    "for user in user_data.values():\n",
    "    \n",
    "    # if locale and locations are not null\n",
    "    if 'locale' in user and 'locations' in user:\n",
    "        locale = user['locale']\n",
    "        if locale not in vote_locale:\n",
    "            vote_locale[locale] = {}\n",
    "        for l in user['locations']:\n",
    "            country = l['country']\n",
    "            countries.add(country)\n",
    "            vote_locale[locale][country] = vote_locale[locale].get(country, 0) + 1"
   ]
  },
  {
   "cell_type": "code",
   "execution_count": null,
   "id": "c81af797",
   "metadata": {},
   "outputs": [],
   "source": [
    "locales = {'es_NI': 'Nicaragua', 'tr_TR': 'Turkey', 'en_SG': 'Singapore', 'th_TH': 'Thailand', \n",
    "           'es_VE': 'Venezuela', 'hu_HU': 'Hungary', 'es_AR': 'Argentina', 'ar_EG': 'Egypt', \n",
    "           'is_IS': 'Iceland', 'zh_HK': 'Hong Kong', 'de_AT': 'Austria', 'pt_BR': 'Brazil', \n",
    "           'cs_CZ': 'Czech Republic', 'sk_SK': 'Slovakia', 'mk_MK': 'Macedonia', 'ar_MA': 'Morocco', \n",
    "           'en_ZA': 'South Africa', 'sv_SE': 'Sweden', 'in_ID': 'Indonesia', 'es_PR': 'Puerto Rico', \n",
    "           'sr_ME': 'Montenegro', 'fr_FR': 'France', 'fi_FI': 'Finland', 'et_EE': 'Estonia', 'sr_RS': \n",
    "           'Serbia', 'es_PY': 'Paraguay', 'no_NO': 'Norway', 'nl_NL': 'Netherlands', 'es_PE': 'Peru', \n",
    "           'lv_LV': 'Latvia', 'es_PA': 'Panama', 'el_CY': 'Cyprus', 'ro_RO': 'Romania', \n",
    "           'iw_IL': 'Israel', 'es_CO': 'Colombia', 'es_CL': 'Chile', 'es_CR': 'Costa Rica', \n",
    "           'hr_HR': 'Croatia', 'ru_RU': 'Russia', 'da_DK': 'Denmark', 'ar_LB': 'Lebanon', \n",
    "           'sq_AL': 'Albania', 'ms_MY': 'Malaysia', 'ar_OM': 'Oman', 'es_HN': 'Honduras', \n",
    "           'pt_PT': 'Portugal', 'vi_VN': 'Vietnam', 'en_NZ': 'New Zealand', 'ar_YE': 'Yemen', \n",
    "           'ar_SD': 'Sudan', 'be_BY': 'Belarus', 'sr_CS': 'Serbia and Montenegro', 'ar_BH': 'Bahrain', \n",
    "           'ar_JO': 'Jordan', 'es_EC': 'Ecuador', 'hi_IN': 'India', 'ja_JP': 'Japan', \n",
    "           'lt_LT': 'Lithuania', 'sl_SI': 'Slovenia', 'es_ES': 'Spain', 'en_GB': 'United Kingdom', \n",
    "           'bg_BG': 'Bulgaria', 'es_SV': 'El Salvador', 'zh_TW': 'Taiwan', 'sr_BA': 'Bosnia and Herzegovina', \n",
    "           'ar_AE': 'United Arab Emirates', 'es_BO': 'Bolivia', 'zh_CN': 'China', \n",
    "           'it_CH': 'Switzerland', 'ar_IQ': 'Iraq', 'ar_QA': 'Qatar', 'ar_SA': 'Saudi Arabia', 'ar_LY': 'Libya', \n",
    "           'it_IT': 'Italy', 'uk_UA': 'Ukraine', 'el_GR': 'Greece', 'ar_SY': 'Syria', 'fr_BE': 'Belgium', \n",
    "           'ar_DZ': 'Algeria', 'ga_IE': 'Ireland', 'es_GT': 'Guatemala', 'en_AU': 'Australia', \n",
    "           'ar_TN': 'Tunisia', 'es_UY': 'Uruguay', 'en_PH': 'Philippines', 'mt_MT': 'Malta', \n",
    "           'es_US': 'United States', 'ko_KR': 'South Korea', 'de_LU': 'Luxembourg', 'de_DE': 'Germany', \n",
    "           'es_MX': 'Mexico', 'fr_CA': 'Canada', 'es_DO': 'Dominican Republic', 'pl_PL': 'Poland', \n",
    "           'ar_KW': 'Kuwait'}\n",
    "\n",
    "locales.update({'af_ZA': 'South Africa','cy_GB': 'United Kingdom','bn_IN': 'India','ca_ES': 'Spain',\n",
    "                'az_AZ': 'Azerbaijan', 'id_ID': 'Indonesia', 'ka_GE': 'Georgia', 'km_KH': 'Cambodia', \n",
    "                'pa_IN': 'India', 'ku_TR': 'Turkey', 'en_IN': 'India', 'he_IL': 'Israel', \n",
    "                'bs_BA': 'Bosnia and Herzegovina', 'fa_IR': 'Iran', 'mn_MN': 'Mongolia', 'tl_PH': 'Philippines',\n",
    "                'nb_NO': 'Norway', 'jv_ID': 'Indonesia'})"
   ]
  },
  {
   "cell_type": "code",
   "execution_count": null,
   "id": "d34a9108",
   "metadata": {},
   "outputs": [],
   "source": [
    "# impute missing location info based on locale info\n",
    "for uid, user in user_data.items():\n",
    "    if 'locale' not in user:\n",
    "        continue\n",
    "    if user['locale'] not in locales:\n",
    "        continue\n",
    "        \n",
    "    # country based on locale\n",
    "    locale_country = locales[user['locale']]\n",
    "    locs = user.get('locations', [])\n",
    "    sw = 0\n",
    "    for loc in locs:\n",
    "        \n",
    "        # if county in loc dict is the same as country based on locale \n",
    "        if loc['country'] == locale_country:\n",
    "            sw = 1\n",
    "    \n",
    "    # if location key does not exist \n",
    "    # or the country in loc dict is different from the country based on locale\n",
    "    # replace the country with locale_country\n",
    "    if sw == 0:\n",
    "        locs.append({'country': locale_country})\n",
    "        user_data[uid]['locations'] = locs"
   ]
  },
  {
   "cell_type": "code",
   "execution_count": null,
   "id": "c5c922e4",
   "metadata": {},
   "outputs": [],
   "source": [
    "# count of users without loc info : 5032\n",
    "count = 0\n",
    "for user in user_data.values():\n",
    "    if 'locations' not in user or not user['locations']:\n",
    "        count += 1"
   ]
  },
  {
   "cell_type": "code",
   "execution_count": null,
   "id": "d48c9139",
   "metadata": {},
   "outputs": [],
   "source": [
    "# timezones: key is tz, value is a dict with countries as key and the corresponding counts of users as value\n",
    "count = 0\n",
    "timezones = {}\n",
    "for user in user_data.values():\n",
    "    if 'tz' not in user or 'locations' not in user or not user['locations']:\n",
    "        count += 1\n",
    "        continue\n",
    "    if user['tz'] not in timezones:\n",
    "        timezones[user['tz']] = {}\n",
    "    tz = timezones[user['tz']]\n",
    "    for loc in user['locations']:\n",
    "        tz[loc['country']] = tz.get(loc['country'], 0) + 1"
   ]
  },
  {
   "cell_type": "code",
   "execution_count": null,
   "id": "2d39767f",
   "metadata": {},
   "outputs": [],
   "source": [
    "# prune timezone countries\n",
    "# leave countries with value great than sum/5\n",
    "for tz in timezones.keys():\n",
    "    countries = timezones[tz]\n",
    "    countries = sorted(countries.items(), key=lambda x: -x[1])\n",
    "    s = sum([c[1] for c in countries])\n",
    "    if s < 5:\n",
    "        timezones[tz] = {}\n",
    "        continue\n",
    "    i = 1\n",
    "    while i < len(countries) and countries[i][1] > s / 5.0:\n",
    "        i += 1\n",
    "    countries = dict(countries[:i])\n",
    "    timezones[tz] = countries\n",
    "    "
   ]
  },
  {
   "cell_type": "markdown",
   "id": "20263d16",
   "metadata": {},
   "source": [
    "## 1.5 Process friends info"
   ]
  },
  {
   "cell_type": "code",
   "execution_count": null,
   "id": "30b0f9a6",
   "metadata": {},
   "outputs": [],
   "source": [
    "# insert friends info into db\n",
    "friends_file = pd.read_csv('/home/ruifan/Downloads/event-recommendation-engine-challenge/user_friends.csv')\n",
    "friends_dict = {}\n",
    "\n",
    "# create friends data in memory\n",
    "# friends_dict: \n",
    "for record in friends_file.iterrows():\n",
    "    record = record[1]\n",
    "    uid1 = record['user']\n",
    "    if uid1 not in friends_dict:\n",
    "        friends_dict[uid1] = []\n",
    "    friends = record['friends']\n",
    "    if isinstance(friends, float):\n",
    "        continue\n",
    "    friends = [int(u) for u in record['friends'].split()]\n",
    "    for uid2 in friends:\n",
    "        friends_dict[uid1].append(uid2)"
   ]
  },
  {
   "cell_type": "markdown",
   "id": "fb406c7a",
   "metadata": {},
   "source": [
    "'''\n",
    "for uid, friends in friends_dict.items():\n",
    "    record = {'uid': uid,'friends': list(friends)}\n",
    "    user_friends.insert_one(record)\n",
    "'''"
   ]
  },
  {
   "cell_type": "code",
   "execution_count": null,
   "id": "62c815bd",
   "metadata": {},
   "outputs": [],
   "source": [
    "# set.intersection return intersection(set) of two sets or a list and a set\n",
    "# only leave friends who have user_id\n",
    "# friends: key is uid, value is a set of friends_id who also have user_id\n",
    "friends = {}\n",
    "user_ids = set(user_data.keys())\n",
    "for f in user_friends.find():\n",
    "    friends[f['uid']] = user_ids.intersection(f['friends'])"
   ]
  },
  {
   "cell_type": "code",
   "execution_count": null,
   "id": "03401a92",
   "metadata": {},
   "outputs": [],
   "source": [
    "count = 0\n",
    "for uid in user_ids:\n",
    "    \n",
    "    # collect locations from friends\n",
    "    # friend_vote: key is location info in form '%s-%s-%s', value is a dict with location and vote as keys\n",
    "    # e.g. [('Indonesia-None-None', {'location': {'country': 'Indonesia'}, 'vote': 1})]\n",
    "    friend_votes = {}\n",
    "    for fid in friends.get(uid, []):\n",
    "        if 'locations' not in user_data[fid]:\n",
    "            continue\n",
    "        \n",
    "        # get loc info of fid\n",
    "        flocs = user_data[fid]['locations']\n",
    "        for loc in flocs:\n",
    "            key = '%s-%s-%s' % (loc.get('country'),loc.get('state'),loc.get('city')) \n",
    "            if key not in friend_votes:\n",
    "                \n",
    "                # shallow copy the loc info from loc info in user_data\n",
    "                friend_votes[key] = {'location': copy.copy(loc),'vote': 1}\n",
    "            else:\n",
    "                friend_votes[key]['vote'] += 1\n",
    "    # filter\n",
    "    friend_votes = friend_votes.values()\n",
    "    s = sum([x['vote'] for x in friend_votes])\n",
    "    \n",
    "    # only leave locations with counts more than s/5\n",
    "    friend_votes = [f for f in friend_votes if f['vote'] > 1 and f['vote'] > s/5]\n",
    "    if not friend_votes:\n",
    "        continue\n",
    "    \n",
    "    # merge with user's locations\n",
    "    if 'locations' not in user_data[uid]:\n",
    "        user_data[uid]['locations'] = []\n",
    "    for floc in friend_votes:\n",
    "        sw = 0\n",
    "        floc = floc['location']\n",
    "        \n",
    "        # if uloc is the same as floc\n",
    "        for uloc in user_data[uid]['locations']:\n",
    "            if floc['country'] == uloc['country'] and \\\n",
    "                    floc.get('state') ==  uloc.get('state') and \\\n",
    "                    floc.get('city') ==  uloc.get('city'):\n",
    "                sw = 1\n",
    "                \n",
    "        # if uloc is different from floc, append floc to user_data[uid]['locations']\n",
    "        # count = 441\n",
    "        if sw == 0:\n",
    "            user_data[uid]['locations'].append(floc)"
   ]
  },
  {
   "cell_type": "markdown",
   "id": "2a759f8a",
   "metadata": {},
   "source": [
    "* newloc consists of user loc and friends loc\n",
    "for uid, data in user_data.items():\n",
    "    user_info.update_one({'id': uid}, {'$set': {'newloc': data['locations']}})"
   ]
  },
  {
   "cell_type": "markdown",
   "id": "bbc566fd",
   "metadata": {},
   "source": [
    "## 1.6 Process attendance data"
   ]
  },
  {
   "cell_type": "code",
   "execution_count": null,
   "id": "f09b53cf",
   "metadata": {},
   "outputs": [],
   "source": [
    "# Create attendance dictionaries Provided in both directions\n",
    "def insert_attendance(uid, eid, att_type):\n",
    "    attendance.insert_one(\n",
    "        {'uid': uid, 'eid': eid, att_type: True})\n",
    "\n",
    "def update_attendance(uid, eid, att_type):\n",
    "    attendance.update_one(\n",
    "        {'uid': uid, 'eid': eid},\n",
    "        {'$set': {'uid': uid, 'eid': eid, att_type: True}}, upsert=True)"
   ]
  },
  {
   "cell_type": "markdown",
   "id": "cd54c652",
   "metadata": {},
   "source": [
    "* insert attendance info into db"
   ]
  },
  {
   "cell_type": "markdown",
   "id": "5df04d6d",
   "metadata": {},
   "source": [
    "events = pd.read_csv('/home/ruifan/Downloads/event-recommendation-engine-challenge/events.csv',\n",
    "                     usecols = ['event_id','user_id'])\n",
    "for e in events.iterrows():\n",
    "    e = e[1]\n",
    "    eid = int(e['event_id'])\n",
    "    uid = int(e['user_id'])\n",
    "    \n",
    "    attendance.insert_one({'uid': uid, 'eid': eid, 'yes': True, 'interested': True})"
   ]
  },
  {
   "cell_type": "markdown",
   "id": "43582ef4",
   "metadata": {},
   "source": [
    "* insert train and event_attendees data into attendance collection (befrore update: 3137972  after update: 3143114)"
   ]
  },
  {
   "cell_type": "markdown",
   "id": "9b7997eb",
   "metadata": {},
   "source": [
    "attendance.create_index([('uid',1),('eid',1)], unique = True) \n",
    "from dateutil.parser import parse\n",
    "train = pd.read_csv( \"/home/ruifan/Downloads/event-recommendation-engine-challenge/train.csv\",  \n",
    "                    converters = {\"timestamp\": parse})\n",
    "\n",
    "for pair in train.iterrows():\n",
    "    pair = pair[1]\n",
    "    uid = pair['user']\n",
    "    eid = pair['event']\n",
    "    for attr in ['invited', 'interested', 'not_interested']:\n",
    "        if pair[attr]:\n",
    "            update_attendance(uid, eid, attr)"
   ]
  },
  {
   "cell_type": "markdown",
   "id": "a9fd860a",
   "metadata": {},
   "source": [
    "* Process event_attendees file to update attendance collection"
   ]
  },
  {
   "cell_type": "markdown",
   "id": "0ef70494",
   "metadata": {},
   "source": [
    "event_attendees = pd.read_csv(\"/home/ruifan/Downloads/event-recommendation-engine-challenge/event_attendees.csv\")\n",
    "for event in event_attendees.iterrows():\n",
    "    event = event[1]\n",
    "    eid = event['event']\n",
    "    for attr in ['yes', 'maybe', 'invited', 'no']:\n",
    "        users = event[attr]\n",
    "        if isinstance(users, float):\n",
    "            continue\n",
    "        users = [int(u) for u in users.split()]\n",
    "        for uid in users:\n",
    "            update_attendance(uid, eid, attr)"
   ]
  },
  {
   "cell_type": "code",
   "execution_count": null,
   "id": "cb70cc79",
   "metadata": {},
   "outputs": [],
   "source": []
  }
 ],
 "metadata": {
  "kernelspec": {
   "display_name": "Python 3 (ipykernel)",
   "language": "python",
   "name": "python3"
  },
  "language_info": {
   "codemirror_mode": {
    "name": "ipython",
    "version": 3
   },
   "file_extension": ".py",
   "mimetype": "text/x-python",
   "name": "python",
   "nbconvert_exporter": "python",
   "pygments_lexer": "ipython3",
   "version": "3.10.6"
  }
 },
 "nbformat": 4,
 "nbformat_minor": 5
}
